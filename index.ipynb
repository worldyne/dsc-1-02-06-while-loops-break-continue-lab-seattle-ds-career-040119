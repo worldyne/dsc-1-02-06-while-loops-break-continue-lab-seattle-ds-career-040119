{
 "cells": [
  {
   "cell_type": "markdown",
   "metadata": {},
   "source": [
    "# While Loops, Break and Continue - Lab"
   ]
  },
  {
   "cell_type": "markdown",
   "metadata": {},
   "source": [
    "## Introduction\n",
    "In this lab, we will practice using `while` loops, and `break` and `continue` statements in our code. We will use our control flow statements to iterate through collections and filter out or selectively operate on each element. We'll use `while` loops to perform operations until a given condition is no longer true."
   ]
  },
  {
   "cell_type": "markdown",
   "metadata": {},
   "source": [
    "## Objectives\n",
    "You will be able to:\n",
    "* Use a break and continue statements inside a loop\n",
    "* Understand, explain and use while loops"
   ]
  },
  {
   "cell_type": "markdown",
   "metadata": {},
   "source": [
    "## Instructions\n",
    "\n",
    "### While Loops\n",
    "Use while loops to perform the below operations and get the expected return values"
   ]
  },
  {
   "cell_type": "code",
   "execution_count": 6,
   "metadata": {},
   "outputs": [
    {
     "name": "stdout",
     "output_type": "stream",
     "text": [
      "slices of pie: 5\n",
      "slices eaten: 1\n",
      "slices of pie: 4\n",
      "slices eaten: 2\n",
      "slices of pie: 3\n",
      "slices eaten: 3\n",
      "slices of pie: 2\n",
      "slices eaten: 4\n",
      "slices of pie: 1\n",
      "slices eaten: 5\n",
      "slices of pie: 0\n",
      "slices eaten: 6\n"
     ]
    }
   ],
   "source": [
    "slices_of_pie = 6\n",
    "slices_eaten = 0\n",
    "\n",
    "while slices_of_pie > 0:\n",
    "    slices_eaten += 1\n",
    "    slices_of_pie -= 1\n",
    "    print('slices of pie: ' + str(slices_of_pie))\n",
    "    print('slices eaten: ' + str(slices_eaten))\n",
    "# use a while loop to eat each slice of pie\n",
    "# add each slice to the slices_eaten variable"
   ]
  },
  {
   "cell_type": "code",
   "execution_count": 9,
   "metadata": {},
   "outputs": [
    {
     "name": "stdout",
     "output_type": "stream",
     "text": [
      "time for breakfast: 1441\n",
      "pancakes: 0.5\n",
      "time for breakfast: 1414\n",
      "pancakes: 1.0\n",
      "time for breakfast: 1387\n",
      "pancakes: 1.5\n",
      "time for breakfast: 1360\n",
      "pancakes: 2.0\n",
      "time for breakfast: 1333\n",
      "pancakes: 2.5\n",
      "time for breakfast: 1306\n",
      "pancakes: 3.0\n",
      "time for breakfast: 1279\n",
      "pancakes: 3.5\n",
      "time for breakfast: 1252\n",
      "pancakes: 4.0\n",
      "time for breakfast: 1225\n",
      "pancakes: 4.5\n",
      "time for breakfast: 1198\n",
      "pancakes: 5.0\n",
      "time for breakfast: 1171\n",
      "pancakes: 5.5\n",
      "time for breakfast: 1144\n",
      "pancakes: 6.0\n",
      "time for breakfast: 1117\n",
      "pancakes: 6.5\n",
      "time for breakfast: 1090\n",
      "pancakes: 7.0\n",
      "time for breakfast: 1063\n",
      "pancakes: 7.5\n",
      "time for breakfast: 1036\n",
      "pancakes: 8.0\n",
      "time for breakfast: 1009\n",
      "pancakes: 8.5\n",
      "time for breakfast: 982\n",
      "pancakes: 9.0\n",
      "time for breakfast: 955\n",
      "pancakes: 9.5\n",
      "time for breakfast: 928\n",
      "pancakes: 10.0\n",
      "time for breakfast: 901\n",
      "pancakes: 10.5\n",
      "time for breakfast: 874\n",
      "pancakes: 11.0\n",
      "time for breakfast: 847\n",
      "pancakes: 11.5\n",
      "time for breakfast: 820\n",
      "pancakes: 12.0\n",
      "time for breakfast: 793\n",
      "pancakes: 12.5\n",
      "time for breakfast: 766\n",
      "pancakes: 13.0\n",
      "time for breakfast: 739\n",
      "pancakes: 13.5\n",
      "time for breakfast: 712\n",
      "pancakes: 14.0\n",
      "time for breakfast: 685\n",
      "pancakes: 14.5\n",
      "time for breakfast: 658\n",
      "pancakes: 15.0\n",
      "time for breakfast: 631\n",
      "pancakes: 15.5\n",
      "time for breakfast: 604\n",
      "pancakes: 16.0\n",
      "time for breakfast: 577\n",
      "pancakes: 16.5\n",
      "time for breakfast: 550\n",
      "pancakes: 17.0\n",
      "time for breakfast: 523\n",
      "pancakes: 17.5\n",
      "time for breakfast: 496\n",
      "pancakes: 18.0\n",
      "time for breakfast: 469\n",
      "pancakes: 18.5\n",
      "time for breakfast: 442\n",
      "pancakes: 19.0\n",
      "time for breakfast: 415\n",
      "pancakes: 19.5\n",
      "time for breakfast: 388\n",
      "pancakes: 20.0\n",
      "time for breakfast: 361\n",
      "pancakes: 20.5\n",
      "time for breakfast: 334\n",
      "pancakes: 21.0\n",
      "time for breakfast: 307\n",
      "pancakes: 21.5\n",
      "time for breakfast: 280\n",
      "pancakes: 22.0\n",
      "time for breakfast: 253\n",
      "pancakes: 22.5\n",
      "time for breakfast: 226\n",
      "pancakes: 23.0\n",
      "time for breakfast: 199\n",
      "pancakes: 23.5\n",
      "time for breakfast: 172\n",
      "pancakes: 24.0\n",
      "time for breakfast: 145\n",
      "pancakes: 24.5\n",
      "time for breakfast: 118\n",
      "pancakes: 25.0\n",
      "time for breakfast: 91\n",
      "pancakes: 25.5\n",
      "time for breakfast: 64\n",
      "pancakes: 26.0\n",
      "time for breakfast: 37\n",
      "pancakes: 26.5\n",
      "time for breakfast: 10\n",
      "pancakes: 27.0\n"
     ]
    }
   ],
   "source": [
    "time_for_breakfast = 1468 # in seconds\n",
    "number_of_cooked_pancakes = 0\n",
    "\n",
    "while time_for_breakfast > 26:\n",
    "    number_of_cooked_pancakes += .5\n",
    "    time_for_breakfast -= 27\n",
    "    print('time for breakfast: ' + str(time_for_breakfast))\n",
    "    print('pancakes: ' + str(number_of_cooked_pancakes))\n",
    "# use a while loop to make yourself 5 pancakes for breakfast\n",
    "# each pancake takes 27 seconds to cook on each side\n",
    "# you must decrease the time_for_breakfast each time you \n",
    "# add a pancake to the skillet (frying pan) or flip a pancake (i.e. 2 times per pancake)\n",
    "# there is only room for one pancake at a time"
   ]
  },
  {
   "cell_type": "markdown",
   "metadata": {},
   "source": [
    "## For Loops"
   ]
  },
  {
   "cell_type": "markdown",
   "metadata": {},
   "source": [
    "> **Hint:** You may find the [remove method](https://www.programiz.com/python-programming/methods/list/remove) to be useful for the next problem"
   ]
  },
  {
   "cell_type": "code",
   "execution_count": null,
   "metadata": {},
   "outputs": [],
   "source": [
    "line_of_hungry_patrons = list(range(0,30))\n",
    "fed_patrons = []\n",
    "\n",
    "while len(line_of_hungry_patrons >)\n",
    "# use a while loop to to feed the hungry patrons who have an even number\n",
    "# add the patrons with an even number to the fed_patrons list\n",
    "# then remove the even numbered patrons from the line_of_hungry_patrons\n",
    "# each list should contain 15 elements"
   ]
  },
  {
   "cell_type": "markdown",
   "metadata": {},
   "source": [
    "### `break` And `continue` Statements"
   ]
  },
  {
   "cell_type": "markdown",
   "metadata": {},
   "source": [
    "We have a list of person objects with all kinds of attributes. We'll use loops to find a person that meets a certain requirement that we are looking for or create new lists with a certain subset of elements. Write for loops with conditional statements in conjunction with `break` and `continue` to get the desired output."
   ]
  },
  {
   "cell_type": "code",
   "execution_count": null,
   "metadata": {},
   "outputs": [],
   "source": [
    "people = [\n",
    "    {'name': \"Daniel\", 'age': 29, 'job': \"Engineer\", 'pet': \"Cat\", 'pet_name': \"Gato\"}, \n",
    "    {'name': \"Katie\", 'age': 30, 'job': \"Teacher\", 'pet': \"Dog\", 'pet_name': \"Frank\"},\n",
    "    {'name': \"Owen\", 'age': 26, 'job': \"Sales person\", 'pet': \"Cat\", 'pet_name': \"Cosmo\"},\n",
    "    {'name': \"Josh\", 'age': 22, 'job': \"Student\", 'pet': \"Cat\", 'pet_name': \"Chat\"},\n",
    "    {'name': \"Estelle\", 'age': 35, 'job': \"French Diplomat\", 'pet': \"Dog\", 'pet_name': \"Gabby\"},\n",
    "    {'name': \"Gustav\", 'age': 24, 'job': \"Brewer\", 'pet': \"Dog\", 'pet_name': \"Helen\"}\n",
    "]"
   ]
  },
  {
   "cell_type": "code",
   "execution_count": null,
   "metadata": {},
   "outputs": [],
   "source": [
    "# use the for loop below to find the *first* person in the list of people that has a dog as their pet\n",
    "# the iteration count shouldn't exceed 2 iterations\n",
    "first_dog_person = None\n",
    "iteration_count = 0\n",
    "for person in people:\n",
    "    iteration_count += 1\n",
    "    pass"
   ]
  },
  {
   "cell_type": "code",
   "execution_count": null,
   "metadata": {},
   "outputs": [],
   "source": [
    "# use a for loop to create a list of the cat owners who are under the age of 28\n",
    "cat_owners = None\n",
    "# for loop goes here"
   ]
  },
  {
   "cell_type": "code",
   "execution_count": null,
   "metadata": {},
   "outputs": [],
   "source": [
    "# use a for loop to find the first person who is above 29 years old in our list of people\n",
    "# remember to use a break and or continue statement\n",
    "thirty_something_yr_old = None\n",
    "# for loop goes here"
   ]
  },
  {
   "cell_type": "code",
   "execution_count": null,
   "metadata": {},
   "outputs": [],
   "source": [
    "# use a for loop to create a list of person names and another list of pet names for all dog owners\n",
    "dog_owner_names = None\n",
    "dog_names = None\n",
    "# for loop goes here"
   ]
  },
  {
   "cell_type": "code",
   "execution_count": null,
   "metadata": {},
   "outputs": [],
   "source": [
    "# use a for loop to create a list of odd numbers from the list of numbers from 0 to 100\n",
    "# each time there is an odd number, add 10 to it and append it to the list_of_odd_numbers_plus_ten\n",
    "# stop adding numbers to the list when there are 35 numbers\n",
    "# use break and continue statements in your code\n",
    "list_of_numbers = list(range(0,100))\n",
    "list_of_odd_numbers_plus_ten = []\n",
    "for number in list_of_numbers:\n",
    "    pass"
   ]
  },
  {
   "cell_type": "markdown",
   "metadata": {},
   "source": [
    "## Summary"
   ]
  },
  {
   "cell_type": "markdown",
   "metadata": {},
   "source": [
    "In this lab, we practiced using while loops, which continue executing their block of code until the given condition is no longer truthy. This is useful for instances where we do not have a collection or do not need a collection to solve our problem, especially when we would only like to stop the process according to a certain condition. We then practiced using control flow statements, `break` and `continue`, to selectively operate on elements, append them to new lists, or assign them to new variables."
   ]
  }
 ],
 "metadata": {
  "kernelspec": {
   "display_name": "Python 3",
   "language": "python",
   "name": "python3"
  },
  "language_info": {
   "codemirror_mode": {
    "name": "ipython",
    "version": 3
   },
   "file_extension": ".py",
   "mimetype": "text/x-python",
   "name": "python",
   "nbconvert_exporter": "python",
   "pygments_lexer": "ipython3",
   "version": "3.6.6"
  }
 },
 "nbformat": 4,
 "nbformat_minor": 2
}
